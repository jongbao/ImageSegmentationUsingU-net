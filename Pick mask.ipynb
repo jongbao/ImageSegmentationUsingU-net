{
 "cells": [
  {
   "cell_type": "markdown",
   "id": "5f88b32f",
   "metadata": {},
   "source": [
    "### 보수부 없는 데이터 제거 -> 모델 돌릴 필요 없음"
   ]
  },
  {
   "cell_type": "code",
   "execution_count": 1,
   "id": "fafc9ced",
   "metadata": {},
   "outputs": [
    {
     "name": "stdout",
     "output_type": "stream",
     "text": [
      "C:\\Users\\user\\Desktop\\한국도로공사\\00. 업무\\3. 딥러닝 이미지 분할을 통한 포장보수부 탐지 프로젝트\\code\n",
      "14076\n"
     ]
    }
   ],
   "source": [
    "from glob import glob\n",
    "import cv2\n",
    "import shutil\n",
    "import os \n",
    "print(os.getcwd())\n",
    "\n",
    "mask_files = glob('./data/labeling data/patch mask/*.jpg')\n",
    "image_files = glob('./data/labeling data/patch image/*.jpg')\n",
    "\n",
    "print(len(mask_files))"
   ]
  },
  {
   "cell_type": "code",
   "execution_count": 2,
   "id": "62b16157",
   "metadata": {
    "scrolled": true
   },
   "outputs": [],
   "source": [
    "mask_list = []\n",
    "\n",
    "for file in range(len(mask_files)):\n",
    "  \n",
    "    mask = cv2.imread(mask_files[file],cv2.IMREAD_GRAYSCALE)\n",
    "    if mask.sum() != 0 :\n",
    "        mask_name = mask_files[file]     \n",
    "        shutil.copy(mask_name,'./data/labeling data/pick mask/')\n",
    "        mask_list.append(mask_name)"
   ]
  },
  {
   "cell_type": "markdown",
   "id": "57075783",
   "metadata": {},
   "source": [
    "### 마스크 이미지 이름 가져오기"
   ]
  },
  {
   "cell_type": "code",
   "execution_count": 3,
   "id": "4685fd86",
   "metadata": {},
   "outputs": [],
   "source": [
    "mask_files = glob('./data/labeling data/pick mask/*.jpg')\n",
    "\n",
    "mask_list = []\n",
    "for file in range(len(mask_files)):\n",
    "    mask_list.append(mask_files[file].split('\\\\')[1])"
   ]
  },
  {
   "cell_type": "code",
   "execution_count": 4,
   "id": "672795c1",
   "metadata": {},
   "outputs": [],
   "source": [
    "for file in range(len(image_files)):\n",
    "    \n",
    "    image_name = image_files[file] \n",
    "    \n",
    "    splited_img_name = image_name.split('\\\\')[1] \n",
    "          \n",
    "    if splited_img_name in mask_list:\n",
    "        shutil.copy(image_name,'./data/labeling data/pick image/')"
   ]
  },
  {
   "cell_type": "markdown",
   "id": "431cc220",
   "metadata": {},
   "source": [
    "---"
   ]
  }
 ],
 "metadata": {
  "kernelspec": {
   "display_name": "Python 3 (ipykernel)",
   "language": "python",
   "name": "python3"
  },
  "language_info": {
   "codemirror_mode": {
    "name": "ipython",
    "version": 3
   },
   "file_extension": ".py",
   "mimetype": "text/x-python",
   "name": "python",
   "nbconvert_exporter": "python",
   "pygments_lexer": "ipython3",
   "version": "3.7.11"
  }
 },
 "nbformat": 4,
 "nbformat_minor": 5
}
