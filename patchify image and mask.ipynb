{
 "cells": [
  {
   "cell_type": "markdown",
   "id": "f0c99c15-7f00-43b3-abfb-14439aa65c8a",
   "metadata": {},
   "source": [
    "### 이미지 패치화 + 패치 데이터 저장"
   ]
  },
  {
   "cell_type": "code",
   "execution_count": 12,
   "id": "86b43c69-b90f-4c9d-bae9-01e56788b188",
   "metadata": {},
   "outputs": [],
   "source": [
    "import numpy as np\n",
    "from matplotlib import pyplot as plt\n",
    "from patchify import patchify, unpatchify\n",
    "from glob import glob\n",
    "from PIL import Image\n",
    "import cv2\n",
    "import os"
   ]
  },
  {
   "cell_type": "code",
   "execution_count": 13,
   "id": "7bb3e67e-b297-4999-89ce-d2ddbf52890f",
   "metadata": {},
   "outputs": [],
   "source": [
    "path = './data/labeling data/'"
   ]
  },
  {
   "cell_type": "code",
   "execution_count": 14,
   "id": "a46ed3ad-46b9-48c7-91ac-ff5deab2e9ea",
   "metadata": {},
   "outputs": [],
   "source": [
    "large_image_stack = glob(path+'image/*.jpg')"
   ]
  },
  {
   "cell_type": "code",
   "execution_count": 15,
   "id": "8f8bc47d",
   "metadata": {},
   "outputs": [],
   "source": [
    "image_namelist = []\n",
    "\n",
    "for img in range(len(large_image_stack[0])):\n",
    "    \n",
    "    image = cv2.imread(large_image_stack[img], cv2.IMREAD_COLOR)\n",
    "    name = large_image_stack[img].split('\\\\')[1].split('.')[0]\n",
    "    num = large_image_stack[img].split('\\\\')[1].split('.')[1].split('_')[-1]\n",
    "    namenum = name + '_' + num\n",
    "    \n",
    "    image_namelist.append(large_image_stack[img].split('\\\\')[-1])\n",
    "    \n",
    "    patches = patchify(image, (512,512,3), step = 448)  #Step= 448 means 64 overlap\n",
    "\n",
    "    for i in range(patches.shape[0]):\n",
    "        for j in range(patches.shape[1]):                        \n",
    "            single_patch_img = patches[i,j,0]     \n",
    "            cv2.imwrite(path+\"patch image/\" +  namenum + \"_\" + str(i)+'_'+ str(j)+ \".jpg\", single_patch_img)  "
   ]
  },
  {
   "cell_type": "code",
   "execution_count": 38,
   "id": "f7b4b1bc",
   "metadata": {},
   "outputs": [],
   "source": [
    "# image_data랑 순서 맞추기 \n",
    "large_image_stack_mask = []\n",
    "\n",
    "for name in large_image_stack:\n",
    "    word = path+\"mask/\" + name[27:-4] + \"_mask\"+\".jpg\"\n",
    "    large_image_stack_mask.append(word)"
   ]
  },
  {
   "cell_type": "code",
   "execution_count": 69,
   "id": "34c4551c",
   "metadata": {},
   "outputs": [],
   "source": [
    "for img in range(len(large_image_stack_mask)):\n",
    "    \n",
    "    image = cv2.imread(large_image_stack_mask[img],cv2.IMREAD_GRAYSCALE)\n",
    "\n",
    "    patches = patchify(image, (512,512,3), step = 448)  #Step= 448 means 64 overlap\n",
    "    \n",
    "      \n",
    "    for i in range(patches.shape[0]):\n",
    "        for j in range(patches.shape[1]):                        \n",
    "            single_patch_img = patches[i,j]     \n",
    "            name = large_image_stack_mask[img].split('/')[-1].split('.')[0]\n",
    "            num = large_image_stack_mask[img].split('/')[-1].split('.')[1].split('_')[1]\n",
    "            namenum = name + '_' + num\n",
    "            cv2.imwrite(path+\"patch mask/\" + namenum +'_' + str(i)+'_'+ str(j)+ \".jpg\", single_patch_img)"
   ]
  },
  {
   "cell_type": "code",
   "execution_count": null,
   "id": "d7f7bf86-5c93-4dbd-9377-ea68cb15ddd6",
   "metadata": {},
   "outputs": [],
   "source": []
  }
 ],
 "metadata": {
  "kernelspec": {
   "display_name": "Python 3 (ipykernel)",
   "language": "python",
   "name": "python3"
  },
  "language_info": {
   "codemirror_mode": {
    "name": "ipython",
    "version": 3
   },
   "file_extension": ".py",
   "mimetype": "text/x-python",
   "name": "python",
   "nbconvert_exporter": "python",
   "pygments_lexer": "ipython3",
   "version": "3.7.11"
  }
 },
 "nbformat": 4,
 "nbformat_minor": 5
}
