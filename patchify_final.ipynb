{
 "cells": [
  {
   "cell_type": "markdown",
   "id": "f0c99c15-7f00-43b3-abfb-14439aa65c8a",
   "metadata": {},
   "source": [
    "# Image Patchify + Unpatchify"
   ]
  },
  {
   "cell_type": "code",
   "execution_count": 66,
   "id": "86b43c69-b90f-4c9d-bae9-01e56788b188",
   "metadata": {},
   "outputs": [],
   "source": [
    "import numpy as np\n",
    "from matplotlib import pyplot as plt\n",
    "from patchify import patchify, unpatchify\n",
    "from glob import glob\n",
    "from PIL import Image\n",
    "import cv2\n",
    "import os"
   ]
  },
  {
   "cell_type": "code",
   "execution_count": 67,
   "id": "7bb3e67e-b297-4999-89ce-d2ddbf52890f",
   "metadata": {},
   "outputs": [],
   "source": [
    "path = \"C:/intern_data/\""
   ]
  },
  {
   "cell_type": "code",
   "execution_count": 68,
   "id": "a46ed3ad-46b9-48c7-91ac-ff5deab2e9ea",
   "metadata": {},
   "outputs": [],
   "source": [
    "large_image_stack = glob(path+'image/Panorama/*.jpg')"
   ]
  },
  {
   "cell_type": "code",
   "execution_count": 69,
   "id": "4625e984-3b07-4a6c-983c-e4c24142f065",
   "metadata": {},
   "outputs": [
    {
     "name": "stdout",
     "output_type": "stream",
     "text": [
      "1\n"
     ]
    }
   ],
   "source": [
    "print(len(large_image_stack))"
   ]
  },
  {
   "cell_type": "code",
   "execution_count": null,
   "id": "d7c3fa84",
   "metadata": {},
   "outputs": [],
   "source": [
    "# unpatchify에 필요한 image.shape의 크기 \n",
    "# 필요한 가로 크기 : 448*(69-1) + 512 = 30976 \n",
    "                    # 따라서 31210-30976 = 234 픽셀 없어져야함\n",
    "# 필요한 세로 크기 : 448*(2-1) +512 = 960"
   ]
  },
  {
   "cell_type": "code",
   "execution_count": 57,
   "id": "a18150a4-7d2a-4a0e-ae7f-81ce9c14e05b",
   "metadata": {},
   "outputs": [],
   "source": [
    "## unpatchify - image crop  \n",
    "# 방법 1 : 처음부터 이미지 크기 자르기 \n",
    "for img in range(len(large_image_stack)):\n",
    "    image_crop = Image.open(large_image_stack[img])\n",
    "    croppedImage= image_crop.crop((0,0,30976,960))  # crop(width_start,height_start,width,height)\n",
    "    croppedImage.save(large_image_stack[img])"
   ]
  },
  {
   "cell_type": "code",
   "execution_count": 80,
   "id": "8bc4b2d1-bbe5-4de2-ac11-21bc5abe0538",
   "metadata": {},
   "outputs": [],
   "source": [
    "for img in range(len(large_image_stack)):\n",
    "    ## image patchify\n",
    "    image = cv2.imread(large_image_stack[img],1)\n",
    "    patches = patchify(image, (512,512,3), step = 448)  #Step= 448 means 64 (512-448) overlap \n",
    "    for i in range(patches.shape[0]):\n",
    "        for j in range(patches.shape[1]):   \n",
    "            single_patch_img = patches[i,j,0] # 데이터가 5개면 shape이 10번 찍힘           \n",
    "            cv2.imwrite(path+\"debug_image/\" + \"image_\" + str(img) + \"_\" + str(i)+str(j)+ \".jpg\", single_patch_img)\n",
    "    \n",
    "    ## unpatchify \n",
    "    # 방법 2: unpatchify 이미지.shape을 임의로 바꿔주기 \n",
    "    reconstructed_image = unpatchify(patches, (960,30976,3)) # image.shape를 잘린 것처럼 바꿔줘야함. \n",
    "    name = large_image_stack[img].split('\\\\')[1]\n",
    "    cv2.imwrite(path + \"unpatchify_image/\"+\"unpatch_\"+name,reconstructed_image)"
   ]
  },
  {
   "cell_type": "code",
   "execution_count": 77,
   "id": "205ff5ed-3935-4522-8491-88ee4a49b146",
   "metadata": {},
   "outputs": [
    {
     "data": {
      "text/plain": [
       "(2, 69, 1, 512, 512, 3)"
      ]
     },
     "execution_count": 77,
     "metadata": {},
     "output_type": "execute_result"
    }
   ],
   "source": [
    "patches.shape"
   ]
  },
  {
   "cell_type": "code",
   "execution_count": 6,
   "id": "fcb20d6f-88c3-4328-82c2-2d4745bb4ea5",
   "metadata": {
    "tags": []
   },
   "outputs": [],
   "source": [
    "# mask file index create\n",
    "large_image_stack_mask = []\n",
    "\n",
    "for name in large_image_stack:\n",
    "    word = path+\"mask\\\\\" + name[30:-4] + \"_mask\"+\".jpg\"\n",
    "    large_image_stack_mask.append(word)"
   ]
  },
  {
   "cell_type": "code",
   "execution_count": 7,
   "id": "ecb0e4d6-ca47-4583-8ae4-0014fb56fc81",
   "metadata": {},
   "outputs": [
    {
     "name": "stdout",
     "output_type": "stream",
     "text": [
      "1\n"
     ]
    }
   ],
   "source": [
    "print(len(large_image_stack_mask))"
   ]
  },
  {
   "cell_type": "code",
   "execution_count": 8,
   "id": "dc6b0b18-04cf-4a83-ae52-68475bbf4400",
   "metadata": {},
   "outputs": [],
   "source": [
    "## mask patchify\n",
    "for img in range(len(large_image_stack_mask)):    \n",
    "    image = cv2.imread(large_image_stack_mask[img],1)   \n",
    "    patches = patchify(image, (512,512,3), step = 448)  #Step= 448 means 64 overlap\n",
    "    for i in range(patches.shape[0]):\n",
    "        for j in range(patches.shape[1]):                        \n",
    "            single_patch_img = patches[i,j,0]     \n",
    "            cv2.imwrite(path+\"debug_mask/\" + \"image_\" + str(img) + \"_\" + str(i)+str(j)+ \".jpg\", single_patch_img)"
   ]
  },
  {
   "cell_type": "markdown",
   "id": "edbd5b1e-330f-4bb3-ad30-5d60c256fb34",
   "metadata": {},
   "source": [
    "### patchfiy_image function"
   ]
  },
  {
   "cell_type": "code",
   "execution_count": null,
   "id": "9982f60d-59d3-4c27-9d09-04196f24c600",
   "metadata": {},
   "outputs": [],
   "source": [
    "def patchfiy_image(large_image_stack,path):\n",
    "    \n",
    "    for img in range(len(large_image_stack)):\n",
    "        image = cv2.imread(large_image_stack[img],1)\n",
    "        patches = patchify(image, (512,512,3), step = 448)  #Step= 448 means 64 overlap\n",
    "        for i in range(patches.shape[0]):\n",
    "            for j in range(patches.shape[1]):   \n",
    "                single_patch_img = patches[i,j,0] # 데이터가 5개면 shape이 10번 찍힘           \n",
    "                cv2.imwrite(path+\"debug_image/\" + \"image_\" + str(img) + \"_\" + str(i)+str(j)+ \".jpg\", single_patch_img)\n",
    "                \n",
    "    # mask file index create\n",
    "    large_image_stack_mask = []\n",
    "\n",
    "    for name in large_image_stack:\n",
    "        word = path+\"mask\\\\\" + name[30:-4] + \"_mask\"+\".jpg\"\n",
    "        large_image_stack_mask.append(word)\n",
    "        \n",
    "    ## mask patchify\n",
    "    for img in range(len(large_image_stack_mask)):    \n",
    "        image = cv2.imread(large_image_stack_mask[img],1)   \n",
    "        patches = patchify(image, (512,512,3), step = 448)  #Step= 448 means 64 overlap\n",
    "        for i in range(patches.shape[0]):\n",
    "            for j in range(patches.shape[1]):                        \n",
    "                single_patch_img = patches[i,j,0]     \n",
    "                cv2.imwrite(path+\"debug_mask/\" + \"image_\" + str(img) + \"_\" + str(i)+str(j)+ \".jpg\", single_patch_img)\n"
   ]
  },
  {
   "cell_type": "markdown",
   "id": "31da867a-c648-4f5b-8ec4-341d04df0065",
   "metadata": {},
   "source": [
    "## Image Pick"
   ]
  },
  {
   "cell_type": "code",
   "execution_count": 9,
   "id": "974f4f48-b34f-4f2a-9cc8-b798b6234b32",
   "metadata": {},
   "outputs": [],
   "source": [
    "from glob import glob\n",
    "import cv2\n",
    "import shutil\n",
    "import os "
   ]
  },
  {
   "cell_type": "code",
   "execution_count": 10,
   "id": "2f888991-5d78-41c7-b876-408502ca0813",
   "metadata": {},
   "outputs": [],
   "source": [
    "path = \"C:/intern_data/\""
   ]
  },
  {
   "cell_type": "code",
   "execution_count": 11,
   "id": "487b194e-d691-40f6-8f88-455e5aeb190b",
   "metadata": {},
   "outputs": [],
   "source": [
    "mask_files = glob(path+'debug_mask/*.jpg')\n",
    "image_files = glob(path+'debug_image/*.jpg')"
   ]
  },
  {
   "cell_type": "code",
   "execution_count": 12,
   "id": "f3408b80-91d1-4284-91a5-7379d6ceccd0",
   "metadata": {},
   "outputs": [],
   "source": [
    "## mask pick\n",
    "\n",
    "mask_list = [] # mask name collect\n",
    "\n",
    "for file in range(len(mask_files)):\n",
    "  \n",
    "    mask = cv2.imread(mask_files[file])\n",
    "    \n",
    "    if mask.sum() != 0 :\n",
    "        mask_name = mask_files[file]     \n",
    "        shutil.copy(mask_name,path+'yes_mask/')\n",
    "        mask_list.append(mask_name.split('/')[2].split('\\\\')[1])"
   ]
  },
  {
   "cell_type": "code",
   "execution_count": 13,
   "id": "4a07b575-7a09-4d0b-85d3-2c305ffc0012",
   "metadata": {},
   "outputs": [],
   "source": [
    "## image pick\n",
    "for image_name in image_files: # 순서 다를 수 있으므로 안에 이름들 가져오기 \n",
    "    splited_img_name = image_name.split('/')[2].split('\\\\')[1]\n",
    "          \n",
    "    if splited_img_name in mask_list:\n",
    "        shutil.copy(image_name,path+'yes_image/')\n",
    "    "
   ]
  },
  {
   "cell_type": "markdown",
   "id": "1a503991-77e9-4e88-bace-5eabc33447d8",
   "metadata": {},
   "source": [
    "## Image Unpatchify"
   ]
  },
  {
   "cell_type": "code",
   "execution_count": null,
   "id": "e16257d3-8709-4d73-a26a-646b65bb47c3",
   "metadata": {},
   "outputs": [],
   "source": []
  }
 ],
 "metadata": {
  "kernelspec": {
   "display_name": "Python 3",
   "language": "python",
   "name": "python3"
  },
  "language_info": {
   "codemirror_mode": {
    "name": "ipython",
    "version": 3
   },
   "file_extension": ".py",
   "mimetype": "text/x-python",
   "name": "python",
   "nbconvert_exporter": "python",
   "pygments_lexer": "ipython3",
   "version": "3.8.8"
  }
 },
 "nbformat": 4,
 "nbformat_minor": 5
}
